{
 "cells": [
  {
   "cell_type": "code",
   "execution_count": 1,
   "metadata": {},
   "outputs": [],
   "source": [
    "import lxml"
   ]
  },
  {
   "cell_type": "code",
   "execution_count": 19,
   "metadata": {},
   "outputs": [],
   "source": [
    "import pymongo\n",
    "myclient = pymongo.MongoClient(\"mongodb://localhost:27017/\")\n",
    "\n",
    "mydb = myclient[\"gmailetl\"]\n",
    "mycol = mydb['emails']"
   ]
  },
  {
   "cell_type": "code",
   "execution_count": 17,
   "metadata": {},
   "outputs": [],
   "source": [
    "from bs4 import BeautifulSoup\n",
    "import email\n",
    "import base64\n",
    "import os.path\n",
    "import pickle\n",
    "from google.auth.transport.requests import Request\n",
    "from google_auth_oauthlib.flow import InstalledAppFlow\n",
    "from googleapiclient.discovery import build\n",
    "\n",
    "SCOPES = ['https://www.googleapis.com/auth/gmail.readonly']\n",
    "\n",
    "creds = None\n",
    "if os.path.exists('token.pickle'):\n",
    "    with open('token.pickle','rb') as token:\n",
    "        creds = pickle.load(token)\n",
    "if not creds or not creds.valid:\n",
    "    if creds and creds.expired and creds.refresh_token:\n",
    "        creds.refresh(Request())\n",
    "    else:\n",
    "        flow = InstalledAppFlow.from_client_secrets_file('credentials.json',SCOPES)\n",
    "        creds = flow.run_local_server(port = 0)\n",
    "\n",
    "    with open('token.pickle','wb') as token:\n",
    "        pickle.dump(creds,token)\n",
    "\n",
    "service  = build('gmail','v1',credentials=creds)\n",
    "\n",
    "\n",
    "\n"
   ]
  },
  {
   "cell_type": "code",
   "execution_count": 21,
   "metadata": {},
   "outputs": [],
   "source": [
    "result = service.users().messages().list(maxResults=10,userId='me').execute()\n",
    "messages = result.get('messages')\n",
    "mails = []\n",
    "index=0\n",
    "for msg in messages:\n",
    "    txt = service.users().messages().get(userId='me', id=msg['id']).execute()\n",
    "    \n",
    "    try:\n",
    "        payload = txt['payload']\n",
    "        headers = payload['headers']\n",
    "\n",
    "        for d in headers:\n",
    "            if d['name'] == 'Subject':\n",
    "                subject = d['value']\n",
    "            if d['name'] == 'From':\n",
    "                sender = d['value']\n",
    "        \n",
    "    \n",
    "        parts = payload.get('parts')[0]\n",
    "        data = parts['body']['data']\n",
    "        data = data.replace(\"-\",\"+\").replace(\"_\",\"/\")\n",
    "        decoded_data = base64.b64decode(data)\n",
    "\n",
    "        soup = BeautifulSoup(decoded_data,\"lxml\")\n",
    "        body = soup.body()\n",
    "        \n",
    "\n",
    "        \n",
    "        body = str(body)\n",
    "        subject = str(subject)\n",
    "        sender = str(sender)\n",
    "        mydict = {\"_id\" : index,  \"Sender\": sender, \"Subject\": subject, \"Body\" : body }\n",
    "        x = mycol.insert_one(mydict)\n",
    "        index = index+1\n",
    "    except:\n",
    "        pass\n",
    "    "
   ]
  },
  {
   "cell_type": "code",
   "execution_count": 14,
   "metadata": {},
   "outputs": [
    {
     "ename": "TypeError",
     "evalue": "documents must be a non-empty list",
     "output_type": "error",
     "traceback": [
      "\u001b[1;31m---------------------------------------------------------------------------\u001b[0m",
      "\u001b[1;31mTypeError\u001b[0m                                 Traceback (most recent call last)",
      "Cell \u001b[1;32mIn[14], line 1\u001b[0m\n\u001b[1;32m----> 1\u001b[0m x \u001b[39m=\u001b[39m mycol\u001b[39m.\u001b[39;49minsert_many(mydict)\n",
      "File \u001b[1;32mc:\\Users\\kumar\\anaconda3\\envs\\gmailetl\\Lib\\site-packages\\pymongo\\_csot.py:105\u001b[0m, in \u001b[0;36mapply.<locals>.csot_wrapper\u001b[1;34m(self, *args, **kwargs)\u001b[0m\n\u001b[0;32m    103\u001b[0m         \u001b[39mwith\u001b[39;00m _TimeoutContext(timeout):\n\u001b[0;32m    104\u001b[0m             \u001b[39mreturn\u001b[39;00m func(\u001b[39mself\u001b[39m, \u001b[39m*\u001b[39margs, \u001b[39m*\u001b[39m\u001b[39m*\u001b[39mkwargs)\n\u001b[1;32m--> 105\u001b[0m \u001b[39mreturn\u001b[39;00m func(\u001b[39mself\u001b[39;49m, \u001b[39m*\u001b[39;49margs, \u001b[39m*\u001b[39;49m\u001b[39m*\u001b[39;49mkwargs)\n",
      "File \u001b[1;32mc:\\Users\\kumar\\anaconda3\\envs\\gmailetl\\Lib\\site-packages\\pymongo\\collection.py:698\u001b[0m, in \u001b[0;36mCollection.insert_many\u001b[1;34m(self, documents, ordered, bypass_document_validation, session, comment)\u001b[0m\n\u001b[0;32m    649\u001b[0m \u001b[39m\u001b[39m\u001b[39m\"\"\"Insert an iterable of documents.\u001b[39;00m\n\u001b[0;32m    650\u001b[0m \n\u001b[0;32m    651\u001b[0m \u001b[39m  >>> db.test.count_documents({})\u001b[39;00m\n\u001b[1;32m   (...)\u001b[0m\n\u001b[0;32m    691\u001b[0m \u001b[39m.. versionadded:: 3.0\u001b[39;00m\n\u001b[0;32m    692\u001b[0m \u001b[39m\"\"\"\u001b[39;00m\n\u001b[0;32m    693\u001b[0m \u001b[39mif\u001b[39;00m (\n\u001b[0;32m    694\u001b[0m     \u001b[39mnot\u001b[39;00m \u001b[39misinstance\u001b[39m(documents, abc\u001b[39m.\u001b[39mIterable)\n\u001b[0;32m    695\u001b[0m     \u001b[39mor\u001b[39;00m \u001b[39misinstance\u001b[39m(documents, abc\u001b[39m.\u001b[39mMapping)\n\u001b[0;32m    696\u001b[0m     \u001b[39mor\u001b[39;00m \u001b[39mnot\u001b[39;00m documents\n\u001b[0;32m    697\u001b[0m ):\n\u001b[1;32m--> 698\u001b[0m     \u001b[39mraise\u001b[39;00m \u001b[39mTypeError\u001b[39;00m(\u001b[39m\"\u001b[39m\u001b[39mdocuments must be a non-empty list\u001b[39m\u001b[39m\"\u001b[39m)\n\u001b[0;32m    699\u001b[0m inserted_ids: List[ObjectId] \u001b[39m=\u001b[39m []\n\u001b[0;32m    701\u001b[0m \u001b[39mdef\u001b[39;00m \u001b[39mgen\u001b[39m():\n",
      "\u001b[1;31mTypeError\u001b[0m: documents must be a non-empty list"
     ]
    }
   ],
   "source": []
  },
  {
   "cell_type": "code",
   "execution_count": null,
   "metadata": {},
   "outputs": [],
   "source": []
  }
 ],
 "metadata": {
  "kernelspec": {
   "display_name": "gmailetl",
   "language": "python",
   "name": "python3"
  },
  "language_info": {
   "codemirror_mode": {
    "name": "ipython",
    "version": 3
   },
   "file_extension": ".py",
   "mimetype": "text/x-python",
   "name": "python",
   "nbconvert_exporter": "python",
   "pygments_lexer": "ipython3",
   "version": "3.11.2"
  },
  "orig_nbformat": 4
 },
 "nbformat": 4,
 "nbformat_minor": 2
}
